{
 "cells": [
  {
   "cell_type": "markdown",
   "metadata": {},
   "source": [
    "# HCLT 데이터 설명\n"
   ]
  },
  {
   "cell_type": "markdown",
   "metadata": {},
   "source": [
    "(이러한 문제점을 해결하기 위해..?) 한국어 모델 평가를 위한 데이터 세트 KLUE를 공개하였다. 이 데이터 중 주제 분류(TC)를 위해 klue-TC task의 데이터 셋을 가공한 데이터를 사용하였다. 그림 1은 klue-TC task 중 일부이다. 데이터셋은 정치, 경제, 사회, 문화, 세계, IT/과학 그리고 스포츠 총 일곱개의 클래스로 이루어져 있다."
   ]
  },
  {
   "cell_type": "markdown",
   "metadata": {},
   "source": [
    "## 데이터 개수 표 만들기"
   ]
  },
  {
   "cell_type": "code",
   "execution_count": null,
   "metadata": {},
   "outputs": [],
   "source": [
    "import pandas as pd\n",
    "test = pd.read_csv('C:/Users/bora3/OneDrive/바탕화~1-DESKTOP-2VUCFIQ-13284516/TAVE/tave reserch/hclt/data/test_data.csv', encoding='utf-8-sig')\n",
    "train = pd.read_csv('C:/Users/bora3/OneDrive/바탕화~1-DESKTOP-2VUCFIQ-13284516/TAVE/tave reserch/hclt/data/train_data.csv', encoding='utf-8-sig')\n",
    "\n",
    "sample = pd.read_csv('C:/Users/bora3/OneDrive/바탕화~1-DESKTOP-2VUCFIQ-13284516/TAVE/tave reserch/hclt/data/sample_submission.csv', encoding='utf-8-sig')\n",
    "topic = pd.read_csv('C:/Users/bora3/OneDrive/바탕화~1-DESKTOP-2VUCFIQ-13284516/TAVE/tave reserch/hclt/data/topic_dict.csv', encoding='utf-8-sig')\n",
    "\n"
   ]
  },
  {
   "cell_type": "code",
   "execution_count": 32,
   "metadata": {},
   "outputs": [
    {
     "data": {
      "text/html": [
       "<div>\n",
       "<style scoped>\n",
       "    .dataframe tbody tr th:only-of-type {\n",
       "        vertical-align: middle;\n",
       "    }\n",
       "\n",
       "    .dataframe tbody tr th {\n",
       "        vertical-align: top;\n",
       "    }\n",
       "\n",
       "    .dataframe thead th {\n",
       "        text-align: right;\n",
       "    }\n",
       "</style>\n",
       "<table border=\"1\" class=\"dataframe\">\n",
       "  <thead>\n",
       "    <tr style=\"text-align: right;\">\n",
       "      <th></th>\n",
       "      <th>topic</th>\n",
       "      <th>topic_idx</th>\n",
       "    </tr>\n",
       "  </thead>\n",
       "  <tbody>\n",
       "    <tr>\n",
       "      <th>0</th>\n",
       "      <td>IT과학</td>\n",
       "      <td>0</td>\n",
       "    </tr>\n",
       "    <tr>\n",
       "      <th>1</th>\n",
       "      <td>경제</td>\n",
       "      <td>1</td>\n",
       "    </tr>\n",
       "    <tr>\n",
       "      <th>2</th>\n",
       "      <td>사회</td>\n",
       "      <td>2</td>\n",
       "    </tr>\n",
       "    <tr>\n",
       "      <th>3</th>\n",
       "      <td>생활문화</td>\n",
       "      <td>3</td>\n",
       "    </tr>\n",
       "    <tr>\n",
       "      <th>4</th>\n",
       "      <td>세계</td>\n",
       "      <td>4</td>\n",
       "    </tr>\n",
       "    <tr>\n",
       "      <th>5</th>\n",
       "      <td>스포츠</td>\n",
       "      <td>5</td>\n",
       "    </tr>\n",
       "    <tr>\n",
       "      <th>6</th>\n",
       "      <td>정치</td>\n",
       "      <td>6</td>\n",
       "    </tr>\n",
       "  </tbody>\n",
       "</table>\n",
       "</div>"
      ],
      "text/plain": [
       "  topic  topic_idx\n",
       "0  IT과학          0\n",
       "1    경제          1\n",
       "2    사회          2\n",
       "3  생활문화          3\n",
       "4    세계          4\n",
       "5   스포츠          5\n",
       "6    정치          6"
      ]
     },
     "execution_count": 32,
     "metadata": {},
     "output_type": "execute_result"
    }
   ],
   "source": [
    "topic"
   ]
  },
  {
   "cell_type": "code",
   "execution_count": 49,
   "metadata": {},
   "outputs": [
    {
     "data": {
      "text/html": [
       "<div>\n",
       "<style scoped>\n",
       "    .dataframe tbody tr th:only-of-type {\n",
       "        vertical-align: middle;\n",
       "    }\n",
       "\n",
       "    .dataframe tbody tr th {\n",
       "        vertical-align: top;\n",
       "    }\n",
       "\n",
       "    .dataframe thead th {\n",
       "        text-align: right;\n",
       "    }\n",
       "</style>\n",
       "<table border=\"1\" class=\"dataframe\">\n",
       "  <thead>\n",
       "    <tr style=\"text-align: right;\">\n",
       "      <th></th>\n",
       "      <th>index</th>\n",
       "      <th>title</th>\n",
       "      <th>topic_idx</th>\n",
       "    </tr>\n",
       "  </thead>\n",
       "  <tbody>\n",
       "    <tr>\n",
       "      <th>0</th>\n",
       "      <td>0</td>\n",
       "      <td>인천→핀란드 항공기 결항…휴가철 여행객 분통</td>\n",
       "      <td>4</td>\n",
       "    </tr>\n",
       "    <tr>\n",
       "      <th>1</th>\n",
       "      <td>1</td>\n",
       "      <td>실리콘밸리 넘어서겠다…구글 15조원 들여 美전역 거점화</td>\n",
       "      <td>4</td>\n",
       "    </tr>\n",
       "    <tr>\n",
       "      <th>2</th>\n",
       "      <td>2</td>\n",
       "      <td>이란 외무 긴장완화 해결책은 미국이 경제전쟁 멈추는 것</td>\n",
       "      <td>4</td>\n",
       "    </tr>\n",
       "    <tr>\n",
       "      <th>3</th>\n",
       "      <td>3</td>\n",
       "      <td>NYT 클린턴 측근韓기업 특수관계 조명…공과 사 맞물려종합</td>\n",
       "      <td>4</td>\n",
       "    </tr>\n",
       "    <tr>\n",
       "      <th>4</th>\n",
       "      <td>4</td>\n",
       "      <td>시진핑 트럼프에 중미 무역협상 조속 타결 희망</td>\n",
       "      <td>4</td>\n",
       "    </tr>\n",
       "    <tr>\n",
       "      <th>...</th>\n",
       "      <td>...</td>\n",
       "      <td>...</td>\n",
       "      <td>...</td>\n",
       "    </tr>\n",
       "    <tr>\n",
       "      <th>45649</th>\n",
       "      <td>45649</td>\n",
       "      <td>KB금융 미국 IB 스티펠과 제휴…선진국 시장 공략</td>\n",
       "      <td>1</td>\n",
       "    </tr>\n",
       "    <tr>\n",
       "      <th>45650</th>\n",
       "      <td>45650</td>\n",
       "      <td>1보 서울시교육청 신종코로나 확산에 개학 연기·휴업 검토</td>\n",
       "      <td>2</td>\n",
       "    </tr>\n",
       "    <tr>\n",
       "      <th>45651</th>\n",
       "      <td>45651</td>\n",
       "      <td>게시판 키움증권 2020 키움 영웅전 실전투자대회</td>\n",
       "      <td>1</td>\n",
       "    </tr>\n",
       "    <tr>\n",
       "      <th>45652</th>\n",
       "      <td>45652</td>\n",
       "      <td>답변하는 배기동 국립중앙박물관장</td>\n",
       "      <td>2</td>\n",
       "    </tr>\n",
       "    <tr>\n",
       "      <th>45653</th>\n",
       "      <td>45653</td>\n",
       "      <td>2020 한국인터넷기자상 시상식 내달 1일 개최…특별상 김성후</td>\n",
       "      <td>2</td>\n",
       "    </tr>\n",
       "  </tbody>\n",
       "</table>\n",
       "<p>45654 rows × 3 columns</p>\n",
       "</div>"
      ],
      "text/plain": [
       "       index                               title  topic_idx\n",
       "0          0            인천→핀란드 항공기 결항…휴가철 여행객 분통          4\n",
       "1          1      실리콘밸리 넘어서겠다…구글 15조원 들여 美전역 거점화          4\n",
       "2          2      이란 외무 긴장완화 해결책은 미국이 경제전쟁 멈추는 것          4\n",
       "3          3    NYT 클린턴 측근韓기업 특수관계 조명…공과 사 맞물려종합          4\n",
       "4          4           시진핑 트럼프에 중미 무역협상 조속 타결 희망          4\n",
       "...      ...                                 ...        ...\n",
       "45649  45649        KB금융 미국 IB 스티펠과 제휴…선진국 시장 공략          1\n",
       "45650  45650     1보 서울시교육청 신종코로나 확산에 개학 연기·휴업 검토          2\n",
       "45651  45651         게시판 키움증권 2020 키움 영웅전 실전투자대회          1\n",
       "45652  45652                   답변하는 배기동 국립중앙박물관장          2\n",
       "45653  45653  2020 한국인터넷기자상 시상식 내달 1일 개최…특별상 김성후          2\n",
       "\n",
       "[45654 rows x 3 columns]"
      ]
     },
     "execution_count": 49,
     "metadata": {},
     "output_type": "execute_result"
    }
   ],
   "source": [
    "train"
   ]
  },
  {
   "cell_type": "code",
   "execution_count": 34,
   "metadata": {},
   "outputs": [
    {
     "data": {
      "text/html": [
       "<div>\n",
       "<style scoped>\n",
       "    .dataframe tbody tr th:only-of-type {\n",
       "        vertical-align: middle;\n",
       "    }\n",
       "\n",
       "    .dataframe tbody tr th {\n",
       "        vertical-align: top;\n",
       "    }\n",
       "\n",
       "    .dataframe thead th {\n",
       "        text-align: right;\n",
       "    }\n",
       "</style>\n",
       "<table border=\"1\" class=\"dataframe\">\n",
       "  <thead>\n",
       "    <tr style=\"text-align: right;\">\n",
       "      <th></th>\n",
       "      <th>index</th>\n",
       "      <th>topic_idx</th>\n",
       "    </tr>\n",
       "  </thead>\n",
       "  <tbody>\n",
       "    <tr>\n",
       "      <th>0</th>\n",
       "      <td>45654</td>\n",
       "      <td>0</td>\n",
       "    </tr>\n",
       "    <tr>\n",
       "      <th>1</th>\n",
       "      <td>45655</td>\n",
       "      <td>0</td>\n",
       "    </tr>\n",
       "    <tr>\n",
       "      <th>2</th>\n",
       "      <td>45656</td>\n",
       "      <td>0</td>\n",
       "    </tr>\n",
       "    <tr>\n",
       "      <th>3</th>\n",
       "      <td>45657</td>\n",
       "      <td>0</td>\n",
       "    </tr>\n",
       "    <tr>\n",
       "      <th>4</th>\n",
       "      <td>45658</td>\n",
       "      <td>0</td>\n",
       "    </tr>\n",
       "    <tr>\n",
       "      <th>...</th>\n",
       "      <td>...</td>\n",
       "      <td>...</td>\n",
       "    </tr>\n",
       "    <tr>\n",
       "      <th>9126</th>\n",
       "      <td>54780</td>\n",
       "      <td>0</td>\n",
       "    </tr>\n",
       "    <tr>\n",
       "      <th>9127</th>\n",
       "      <td>54781</td>\n",
       "      <td>0</td>\n",
       "    </tr>\n",
       "    <tr>\n",
       "      <th>9128</th>\n",
       "      <td>54782</td>\n",
       "      <td>0</td>\n",
       "    </tr>\n",
       "    <tr>\n",
       "      <th>9129</th>\n",
       "      <td>54783</td>\n",
       "      <td>0</td>\n",
       "    </tr>\n",
       "    <tr>\n",
       "      <th>9130</th>\n",
       "      <td>54784</td>\n",
       "      <td>0</td>\n",
       "    </tr>\n",
       "  </tbody>\n",
       "</table>\n",
       "<p>9131 rows × 2 columns</p>\n",
       "</div>"
      ],
      "text/plain": [
       "      index  topic_idx\n",
       "0     45654          0\n",
       "1     45655          0\n",
       "2     45656          0\n",
       "3     45657          0\n",
       "4     45658          0\n",
       "...     ...        ...\n",
       "9126  54780          0\n",
       "9127  54781          0\n",
       "9128  54782          0\n",
       "9129  54783          0\n",
       "9130  54784          0\n",
       "\n",
       "[9131 rows x 2 columns]"
      ]
     },
     "execution_count": 34,
     "metadata": {},
     "output_type": "execute_result"
    }
   ],
   "source": [
    "sample"
   ]
  },
  {
   "cell_type": "code",
   "execution_count": 37,
   "metadata": {},
   "outputs": [],
   "source": [
    "# 각 title 별 topic을 알아내기 위한 데이터 전처리\n",
    "# test와 sample을 index를 기준으로 합침\n",
    "new_test = pd.merge(test,sample,on='index')"
   ]
  },
  {
   "cell_type": "code",
   "execution_count": 38,
   "metadata": {
    "scrolled": true
   },
   "outputs": [
    {
     "data": {
      "text/html": [
       "<div>\n",
       "<style scoped>\n",
       "    .dataframe tbody tr th:only-of-type {\n",
       "        vertical-align: middle;\n",
       "    }\n",
       "\n",
       "    .dataframe tbody tr th {\n",
       "        vertical-align: top;\n",
       "    }\n",
       "\n",
       "    .dataframe thead th {\n",
       "        text-align: right;\n",
       "    }\n",
       "</style>\n",
       "<table border=\"1\" class=\"dataframe\">\n",
       "  <thead>\n",
       "    <tr style=\"text-align: right;\">\n",
       "      <th></th>\n",
       "      <th>index</th>\n",
       "      <th>title</th>\n",
       "      <th>topic_idx</th>\n",
       "    </tr>\n",
       "  </thead>\n",
       "  <tbody>\n",
       "    <tr>\n",
       "      <th>0</th>\n",
       "      <td>45654</td>\n",
       "      <td>유튜브 내달 2일까지 크리에이터 지원 공간 운영</td>\n",
       "      <td>0</td>\n",
       "    </tr>\n",
       "    <tr>\n",
       "      <th>1</th>\n",
       "      <td>45655</td>\n",
       "      <td>어버이날 맑다가 흐려져…남부지방 옅은 황사</td>\n",
       "      <td>0</td>\n",
       "    </tr>\n",
       "    <tr>\n",
       "      <th>2</th>\n",
       "      <td>45656</td>\n",
       "      <td>내년부터 국가RD 평가 때 논문건수는 반영 않는다</td>\n",
       "      <td>0</td>\n",
       "    </tr>\n",
       "    <tr>\n",
       "      <th>3</th>\n",
       "      <td>45657</td>\n",
       "      <td>김명자 신임 과총 회장 원로와 젊은 과학자 지혜 모을 것</td>\n",
       "      <td>0</td>\n",
       "    </tr>\n",
       "    <tr>\n",
       "      <th>4</th>\n",
       "      <td>45658</td>\n",
       "      <td>회색인간 작가 김동식 양심고백 등 새 소설집 2권 출간</td>\n",
       "      <td>0</td>\n",
       "    </tr>\n",
       "    <tr>\n",
       "      <th>...</th>\n",
       "      <td>...</td>\n",
       "      <td>...</td>\n",
       "      <td>...</td>\n",
       "    </tr>\n",
       "    <tr>\n",
       "      <th>9126</th>\n",
       "      <td>54780</td>\n",
       "      <td>인천 오후 3시35분 대설주의보…눈 3.1cm 쌓여</td>\n",
       "      <td>0</td>\n",
       "    </tr>\n",
       "    <tr>\n",
       "      <th>9127</th>\n",
       "      <td>54781</td>\n",
       "      <td>노래방에서 지인 성추행 외교부 사무관 불구속 입건종합</td>\n",
       "      <td>0</td>\n",
       "    </tr>\n",
       "    <tr>\n",
       "      <th>9128</th>\n",
       "      <td>54782</td>\n",
       "      <td>40년 전 부마항쟁 부산 시위 사진 2점 최초 공개</td>\n",
       "      <td>0</td>\n",
       "    </tr>\n",
       "    <tr>\n",
       "      <th>9129</th>\n",
       "      <td>54783</td>\n",
       "      <td>게시판 아리랑TV 아프리카개발은행 총회 개회식 생중계</td>\n",
       "      <td>0</td>\n",
       "    </tr>\n",
       "    <tr>\n",
       "      <th>9130</th>\n",
       "      <td>54784</td>\n",
       "      <td>유영민 과기장관 강소특구는 지역 혁신의 중심…지원책 강구</td>\n",
       "      <td>0</td>\n",
       "    </tr>\n",
       "  </tbody>\n",
       "</table>\n",
       "<p>9131 rows × 3 columns</p>\n",
       "</div>"
      ],
      "text/plain": [
       "      index                            title  topic_idx\n",
       "0     45654       유튜브 내달 2일까지 크리에이터 지원 공간 운영          0\n",
       "1     45655          어버이날 맑다가 흐려져…남부지방 옅은 황사          0\n",
       "2     45656      내년부터 국가RD 평가 때 논문건수는 반영 않는다          0\n",
       "3     45657  김명자 신임 과총 회장 원로와 젊은 과학자 지혜 모을 것          0\n",
       "4     45658   회색인간 작가 김동식 양심고백 등 새 소설집 2권 출간          0\n",
       "...     ...                              ...        ...\n",
       "9126  54780     인천 오후 3시35분 대설주의보…눈 3.1cm 쌓여          0\n",
       "9127  54781    노래방에서 지인 성추행 외교부 사무관 불구속 입건종합          0\n",
       "9128  54782     40년 전 부마항쟁 부산 시위 사진 2점 최초 공개          0\n",
       "9129  54783    게시판 아리랑TV 아프리카개발은행 총회 개회식 생중계          0\n",
       "9130  54784  유영민 과기장관 강소특구는 지역 혁신의 중심…지원책 강구          0\n",
       "\n",
       "[9131 rows x 3 columns]"
      ]
     },
     "execution_count": 38,
     "metadata": {},
     "output_type": "execute_result"
    }
   ],
   "source": [
    "new_test "
   ]
  },
  {
   "cell_type": "code",
   "execution_count": 46,
   "metadata": {
    "scrolled": true
   },
   "outputs": [
    {
     "data": {
      "text/plain": [
       "4    7629\n",
       "2    7362\n",
       "5    6933\n",
       "6    6751\n",
       "1    6222\n",
       "3    5933\n",
       "0    4824\n",
       "Name: topic_idx, dtype: int64"
      ]
     },
     "execution_count": 46,
     "metadata": {},
     "output_type": "execute_result"
    }
   ],
   "source": [
    "# 각 주제별 데이터 개수 세기\n",
    "train['topic_idx'].value_counts()"
   ]
  },
  {
   "cell_type": "code",
   "execution_count": 55,
   "metadata": {},
   "outputs": [
    {
     "data": {
      "text/plain": [
       "0    9131\n",
       "Name: topic_idx, dtype: int64"
      ]
     },
     "execution_count": 55,
     "metadata": {},
     "output_type": "execute_result"
    }
   ],
   "source": [
    "# 각 주제별 데이터 개수 세기\n",
    "new_test['topic_idx'].value_counts()"
   ]
  },
  {
   "cell_type": "markdown",
   "metadata": {},
   "source": [
    "### 논문 코드"
   ]
  },
  {
   "cell_type": "code",
   "execution_count": 123,
   "metadata": {},
   "outputs": [
    {
     "ename": "SyntaxError",
     "evalue": "unexpected character after line continuation character (<ipython-input-123-4f6c40823070>, line 1)",
     "output_type": "error",
     "traceback": [
      "\u001b[1;36m  File \u001b[1;32m\"<ipython-input-123-4f6c40823070>\"\u001b[1;36m, line \u001b[1;32m1\u001b[0m\n\u001b[1;33m    \\subsection{그림/표 작성법}\u001b[0m\n\u001b[1;37m                         ^\u001b[0m\n\u001b[1;31mSyntaxError\u001b[0m\u001b[1;31m:\u001b[0m unexpected character after line continuation character\n"
     ]
    }
   ],
   "source": [
    "\\subsection{그림/표 작성법}\n",
    "\\begin{table}[t]\n",
    "\\caption{klue-TC task 데이터 셋의 통계정보}\n",
    "\\label{tab:data_stats}\n",
    "\\begin{center}\n",
    "\\begin{tabular}{c|c|c}\n",
    "\\hline\n",
    "TOPIC & 학습 데이터 &  평가 데이터 \\\\\n",
    "\\hline\n",
    "IT 과학   & 4,824 & 9,131 \\\\\n",
    "경제   & 6,222 &  \\\\\n",
    "사회   & 7,362 &  \\\\\n",
    "생활문화   & 5,933 & \\\\\n",
    "세계   & 7,629 &  \\\\\n",
    "스포츠   & 6,933 &  \\\\\n",
    "정치   & 6,751 &  \\\\\n",
    "\\hline\n",
    "\\end{tabular}\n",
    "\\end{center}\n",
    "\\end{table}\n",
    "\n",
    "\\begin{figure}[t]\n",
    "\\centering\n",
    "\\includegraphics[width=.4\\textwidth]{cat.jpg}\n",
    "\\caption{고양이 사진}\n",
    "\\label{fig:cat}\n",
    "\\end{figure}\n"
   ]
  },
  {
   "cell_type": "markdown",
   "metadata": {},
   "source": [
    "## 표 시각화"
   ]
  },
  {
   "cell_type": "code",
   "execution_count": 81,
   "metadata": {},
   "outputs": [
    {
     "data": {
      "image/png": "[encoded data removed]",
      "text/plain": [
       "<Figure size 432x288 with 1 Axes>"
      ]
     },
     "metadata": {
      "needs_background": "light"
     },
     "output_type": "display_data"
    }
   ],
   "source": [
    "## TEST 1\n",
    "import numpy as np\n",
    "import matplotlib.pyplot as plt\n",
    "\n",
    "N = 7\n",
    "theta = np.linspace(0.0, 2 * np.pi, N, endpoint=False)\n",
    "r = np.array([4824,6222, 7362, 5933, 7629, 6933,  6751])\n",
    "width = np.array([0.4] * N)\n",
    "label = [\"IT과학\", \"경제\", \"사회\", \"생활문화\" , \"세계\", \"스포츠\", \"정치\"]\n",
    "\n",
    "\n",
    "\n",
    "ax = plt.subplot(111, projection='polar')\n",
    "\n",
    "ax.set_rlim(0.9, 1)\n",
    "ax.set_rticks(np.arange(0.94, 1, 0.02))\n",
    "ax.set_thetagrids(theta * 180 / np.pi)\n",
    "ax.set_rlabel_position(-7)\n",
    "\n",
    "ax.bar(x=theta, height=r, width=width, bottom=0.0, alpha=0.5, tick_label=label)\n",
    "\n",
    "plt.show()"
   ]
  },
  {
   "cell_type": "code",
   "execution_count": null,
   "metadata": {},
   "outputs": [],
   "source": [
    "## TEST 2\n",
    "import numpy as np\n",
    "import matplotlib.pyplot as plt\n",
    "\n",
    "N = 15 # 개수\n",
    "theta = np.linspace(0.0, 2 * np.pi, N, endpoint=False)\n",
    "r = np.array(\n",
    "    [0.9928, 0.9854, 0.9829, 0.9794, 0.9727, 0.9698, 0.9657, 0.9641, 0.9651, 0.9482, 0.9557, 0.9404, 0.9360, 0.9270,\n",
    "     0.9253])\n",
    "width = np.array([0.4] * N) # 날개 넓이 조정\n",
    "label = [\"a\", \"b\", \"c\", \"d\", \"e\", \"f\", \"g\", \"h\", \"i\", \"j\", \"l\", \"m\", \"n\", \"o\", \"p\"]\n",
    "\n",
    "ax = plt.subplot(111, projection='polar')\n",
    "\n",
    "ax.set_rlim(0.9, 1)\n",
    "ax.set_rticks(np.arange(0.94, 1, 0.02)) # 숫자 범위\n",
    "ax.set_thetagrids(theta * 180 / np.pi)\n",
    "ax.set_rlabel_position(-15)\n",
    "\n",
    "ax.bar(x=theta, height=r, width=width, bottom=0.0, alpha=0.5, tick_label=label)\n",
    "\n",
    "plt.show()"
   ]
  },
  {
   "cell_type": "code",
   "execution_count": 122,
   "metadata": {},
   "outputs": [
    {
     "data": {
      "image/png": "[encoded data removed]",
      "text/plain": [
       "<Figure size 432x288 with 1 Axes>"
      ]
     },
     "metadata": {
      "needs_background": "light"
     },
     "output_type": "display_data"
    }
   ],
   "source": [
    "import numpy as np\n",
    "import matplotlib.pyplot as plt\n",
    "\n",
    "\n",
    "# 한글 폰트 사용을 위해서 세팅\n",
    "from matplotlib import font_manager, rc\n",
    "font_path = \"C:/Windows/Fonts/NGULIM.TTF\"\n",
    "font = font_manager.FontProperties(fname=font_path).get_name()\n",
    "rc('font', family=font)\n",
    "\n",
    "\n",
    "# Fixing random state for reproducibility\n",
    "np.random.seed(19680801)\n",
    "\n",
    "# Compute pie slices\n",
    "N = 7\n",
    "theta = np.linspace(0.0, 2 * np.pi, N, endpoint=False)\n",
    "# radii = 10 * np.random.rand(N)\n",
    "radii =  np.array([4824,6222, 7362, 5933, 7629, 6933,  6751])\n",
    "\n",
    "\n",
    "# width = np.pi / 4 * np.random.rand(N)\n",
    "width = np.pi / 40 * 7\n",
    "\n",
    "# color 조정가능!!\n",
    "# https://www.geeksforgeeks.org/matplotlib-pyplot-viridis-in-python/\n",
    "colors = plt.cm.viridis(radii / 80.)\n",
    "\n",
    "\n",
    "label = [\"IT과학\", \"경제\", \"사회\", \"생활문화\" , \"세계\", \"스포츠\", \"정치\"]\n",
    "\n",
    "\n",
    "\n",
    "ax = plt.subplot(projection='polar')\n",
    "ax.set_rticks(np.arange(1000, 8000, 2000))\n",
    "\n",
    "ax.bar(theta, radii, width=width, bottom=0.0, color=colors, alpha=0.5,  tick_label=label)\n",
    "\n",
    "plt.show()"
   ]
  },
  {
   "cell_type": "code",
   "execution_count": null,
   "metadata": {},
   "outputs": [],
   "source": []
  }
 ],
 "metadata": {
  "kernelspec": {
   "display_name": "Python 3",
   "language": "python",
   "name": "python3"
  },
  "language_info": {
   "codemirror_mode": {
    "name": "ipython",
    "version": 3
   },
   "file_extension": ".py",
   "mimetype": "text/x-python",
   "name": "python",
   "nbconvert_exporter": "python",
   "pygments_lexer": "ipython3",
   "version": "3.8.5"
  }
 },
 "nbformat": 4,
 "nbformat_minor": 4
}
